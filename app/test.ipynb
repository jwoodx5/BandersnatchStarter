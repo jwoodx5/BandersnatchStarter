{
 "cells": [
  {
   "cell_type": "code",
   "execution_count": 2,
   "metadata": {},
   "outputs": [],
   "source": [
    "from os import getenv\n",
    "\n",
    "from certifi import where\n",
    "from dotenv import load_dotenv\n",
    "from MonsterLab import Monster\n",
    "from pandas import DataFrame\n",
    "from pymongo import MongoClient\n",
    "\n",
    "from dotenv import load_dotenv\n",
    "import os\n",
    "\n",
    "# Load the environment variables from .env file\n",
    "load_dotenv()\n",
    "\n",
    "\n",
    "class Database:\n",
    "    def __init__(self):\n",
    "        # Connect to the MongoDB database\n",
    "        self.client = MongoClient(getenv('MONGO_URI'))\n",
    "        self.db = self.client['bandersnatch']  # Database name\n",
    "        self.collection = self.db['monsters']  # Collection name\n",
    "\n",
    "    def seed(self, amount):\n",
    "        # This method will add `amount` of dummy data to the collection\n",
    "        dummy_data = [{'name': f'Monster_{i}'} for i in range(amount)]\n",
    "        self.collection.insert_many(dummy_data)\n",
    "\n",
    "    def reset(self):\n",
    "         # This method will delete all documents in the collection\n",
    "        self.collection.delete_many({})\n",
    "\n",
    "    def count(self) -> int:\n",
    "        # This method returns the number of documents in the collection\n",
    "        return self.collection.count_documents({})\n",
    "\n",
    "    def dataframe(self) -> DataFrame:\n",
    "        # This method returns all documents in the collection as a pandas DataFrame\n",
    "        data = list(self.collection.find({}, {'_id': False}))\n",
    "        return DataFrame(data)\n",
    "\n",
    "    def html_table(self) -> str:\n",
    "        # This method returns an HTML table representation of the DataFrame\n",
    "        df = self.dataframe()\n",
    "        return df.to_html() if not df.empty else None"
   ]
  }
 ],
 "metadata": {
  "kernelspec": {
   "display_name": "env",
   "language": "python",
   "name": "python3"
  },
  "language_info": {
   "codemirror_mode": {
    "name": "ipython",
    "version": 3
   },
   "file_extension": ".py",
   "mimetype": "text/x-python",
   "name": "python",
   "nbconvert_exporter": "python",
   "pygments_lexer": "ipython3",
   "version": "3.11.2"
  }
 },
 "nbformat": 4,
 "nbformat_minor": 2
}
